{
  "nbformat": 4,
  "nbformat_minor": 0,
  "metadata": {
    "colab": {
      "name": "MLP_PyTorch_W&B.ipynb",
      "provenance": []
    },
    "kernelspec": {
      "name": "python3",
      "display_name": "Python 3"
    },
    "language_info": {
      "name": "python"
    },
    "accelerator": "GPU",
    "widgets": {
      "application/vnd.jupyter.widget-state+json": {
        "9994c5ad17d84db99253c394477149b4": {
          "model_module": "@jupyter-widgets/controls",
          "model_name": "VBoxModel",
          "model_module_version": "1.5.0",
          "state": {
            "_dom_classes": [],
            "_model_module": "@jupyter-widgets/controls",
            "_model_module_version": "1.5.0",
            "_model_name": "VBoxModel",
            "_view_count": null,
            "_view_module": "@jupyter-widgets/controls",
            "_view_module_version": "1.5.0",
            "_view_name": "VBoxView",
            "box_style": "",
            "children": [
              "IPY_MODEL_b63daf2d64074cbe9683b2457039f3cf",
              "IPY_MODEL_8a0ef3aa1fd94ad6872313f0bccb49cf"
            ],
            "layout": "IPY_MODEL_ab8b3599561449619f080779189d741a"
          }
        },
        "b63daf2d64074cbe9683b2457039f3cf": {
          "model_module": "@jupyter-widgets/controls",
          "model_name": "LabelModel",
          "model_module_version": "1.5.0",
          "state": {
            "_dom_classes": [],
            "_model_module": "@jupyter-widgets/controls",
            "_model_module_version": "1.5.0",
            "_model_name": "LabelModel",
            "_view_count": null,
            "_view_module": "@jupyter-widgets/controls",
            "_view_module_version": "1.5.0",
            "_view_name": "LabelView",
            "description": "",
            "description_tooltip": null,
            "layout": "IPY_MODEL_dd6084c5de574e7facdc07ec7ea7afb1",
            "placeholder": "​",
            "style": "IPY_MODEL_239d529ef33f4a8b9cd95c12f7aad9e9",
            "value": "0.022 MB of 0.022 MB uploaded (0.000 MB deduped)\r"
          }
        },
        "8a0ef3aa1fd94ad6872313f0bccb49cf": {
          "model_module": "@jupyter-widgets/controls",
          "model_name": "FloatProgressModel",
          "model_module_version": "1.5.0",
          "state": {
            "_dom_classes": [],
            "_model_module": "@jupyter-widgets/controls",
            "_model_module_version": "1.5.0",
            "_model_name": "FloatProgressModel",
            "_view_count": null,
            "_view_module": "@jupyter-widgets/controls",
            "_view_module_version": "1.5.0",
            "_view_name": "ProgressView",
            "bar_style": "",
            "description": "",
            "description_tooltip": null,
            "layout": "IPY_MODEL_efe76713d43241ccb14bc7e7fd01be25",
            "max": 1,
            "min": 0,
            "orientation": "horizontal",
            "style": "IPY_MODEL_f74a4b731d6b41e4bdf82b649f953ef4",
            "value": 1
          }
        },
        "ab8b3599561449619f080779189d741a": {
          "model_module": "@jupyter-widgets/base",
          "model_name": "LayoutModel",
          "model_module_version": "1.2.0",
          "state": {
            "_model_module": "@jupyter-widgets/base",
            "_model_module_version": "1.2.0",
            "_model_name": "LayoutModel",
            "_view_count": null,
            "_view_module": "@jupyter-widgets/base",
            "_view_module_version": "1.2.0",
            "_view_name": "LayoutView",
            "align_content": null,
            "align_items": null,
            "align_self": null,
            "border": null,
            "bottom": null,
            "display": null,
            "flex": null,
            "flex_flow": null,
            "grid_area": null,
            "grid_auto_columns": null,
            "grid_auto_flow": null,
            "grid_auto_rows": null,
            "grid_column": null,
            "grid_gap": null,
            "grid_row": null,
            "grid_template_areas": null,
            "grid_template_columns": null,
            "grid_template_rows": null,
            "height": null,
            "justify_content": null,
            "justify_items": null,
            "left": null,
            "margin": null,
            "max_height": null,
            "max_width": null,
            "min_height": null,
            "min_width": null,
            "object_fit": null,
            "object_position": null,
            "order": null,
            "overflow": null,
            "overflow_x": null,
            "overflow_y": null,
            "padding": null,
            "right": null,
            "top": null,
            "visibility": null,
            "width": null
          }
        },
        "dd6084c5de574e7facdc07ec7ea7afb1": {
          "model_module": "@jupyter-widgets/base",
          "model_name": "LayoutModel",
          "model_module_version": "1.2.0",
          "state": {
            "_model_module": "@jupyter-widgets/base",
            "_model_module_version": "1.2.0",
            "_model_name": "LayoutModel",
            "_view_count": null,
            "_view_module": "@jupyter-widgets/base",
            "_view_module_version": "1.2.0",
            "_view_name": "LayoutView",
            "align_content": null,
            "align_items": null,
            "align_self": null,
            "border": null,
            "bottom": null,
            "display": null,
            "flex": null,
            "flex_flow": null,
            "grid_area": null,
            "grid_auto_columns": null,
            "grid_auto_flow": null,
            "grid_auto_rows": null,
            "grid_column": null,
            "grid_gap": null,
            "grid_row": null,
            "grid_template_areas": null,
            "grid_template_columns": null,
            "grid_template_rows": null,
            "height": null,
            "justify_content": null,
            "justify_items": null,
            "left": null,
            "margin": null,
            "max_height": null,
            "max_width": null,
            "min_height": null,
            "min_width": null,
            "object_fit": null,
            "object_position": null,
            "order": null,
            "overflow": null,
            "overflow_x": null,
            "overflow_y": null,
            "padding": null,
            "right": null,
            "top": null,
            "visibility": null,
            "width": null
          }
        },
        "239d529ef33f4a8b9cd95c12f7aad9e9": {
          "model_module": "@jupyter-widgets/controls",
          "model_name": "DescriptionStyleModel",
          "model_module_version": "1.5.0",
          "state": {
            "_model_module": "@jupyter-widgets/controls",
            "_model_module_version": "1.5.0",
            "_model_name": "DescriptionStyleModel",
            "_view_count": null,
            "_view_module": "@jupyter-widgets/base",
            "_view_module_version": "1.2.0",
            "_view_name": "StyleView",
            "description_width": ""
          }
        },
        "efe76713d43241ccb14bc7e7fd01be25": {
          "model_module": "@jupyter-widgets/base",
          "model_name": "LayoutModel",
          "model_module_version": "1.2.0",
          "state": {
            "_model_module": "@jupyter-widgets/base",
            "_model_module_version": "1.2.0",
            "_model_name": "LayoutModel",
            "_view_count": null,
            "_view_module": "@jupyter-widgets/base",
            "_view_module_version": "1.2.0",
            "_view_name": "LayoutView",
            "align_content": null,
            "align_items": null,
            "align_self": null,
            "border": null,
            "bottom": null,
            "display": null,
            "flex": null,
            "flex_flow": null,
            "grid_area": null,
            "grid_auto_columns": null,
            "grid_auto_flow": null,
            "grid_auto_rows": null,
            "grid_column": null,
            "grid_gap": null,
            "grid_row": null,
            "grid_template_areas": null,
            "grid_template_columns": null,
            "grid_template_rows": null,
            "height": null,
            "justify_content": null,
            "justify_items": null,
            "left": null,
            "margin": null,
            "max_height": null,
            "max_width": null,
            "min_height": null,
            "min_width": null,
            "object_fit": null,
            "object_position": null,
            "order": null,
            "overflow": null,
            "overflow_x": null,
            "overflow_y": null,
            "padding": null,
            "right": null,
            "top": null,
            "visibility": null,
            "width": null
          }
        },
        "f74a4b731d6b41e4bdf82b649f953ef4": {
          "model_module": "@jupyter-widgets/controls",
          "model_name": "ProgressStyleModel",
          "model_module_version": "1.5.0",
          "state": {
            "_model_module": "@jupyter-widgets/controls",
            "_model_module_version": "1.5.0",
            "_model_name": "ProgressStyleModel",
            "_view_count": null,
            "_view_module": "@jupyter-widgets/base",
            "_view_module_version": "1.2.0",
            "_view_name": "StyleView",
            "bar_color": null,
            "description_width": ""
          }
        }
      }
    }
  },
  "cells": [
    {
      "cell_type": "code",
      "source": [
        "!pip install wandb"
      ],
      "metadata": {
        "colab": {
          "base_uri": "https://localhost:8080/"
        },
        "id": "ObUmeQlnlqGu",
        "outputId": "0a86541a-685b-4fba-a39c-c9b24a0c2123"
      },
      "execution_count": null,
      "outputs": [
        {
          "output_type": "stream",
          "name": "stdout",
          "text": [
            "Requirement already satisfied: wandb in /usr/local/lib/python3.7/dist-packages (0.12.16)\n",
            "Requirement already satisfied: six>=1.13.0 in /usr/local/lib/python3.7/dist-packages (from wandb) (1.15.0)\n",
            "Requirement already satisfied: PyYAML in /usr/local/lib/python3.7/dist-packages (from wandb) (3.13)\n",
            "Requirement already satisfied: setuptools in /usr/local/lib/python3.7/dist-packages (from wandb) (57.4.0)\n",
            "Requirement already satisfied: python-dateutil>=2.6.1 in /usr/local/lib/python3.7/dist-packages (from wandb) (2.8.2)\n",
            "Requirement already satisfied: sentry-sdk>=1.0.0 in /usr/local/lib/python3.7/dist-packages (from wandb) (1.5.12)\n",
            "Requirement already satisfied: shortuuid>=0.5.0 in /usr/local/lib/python3.7/dist-packages (from wandb) (1.0.9)\n",
            "Requirement already satisfied: Click!=8.0.0,>=7.0 in /usr/local/lib/python3.7/dist-packages (from wandb) (7.1.2)\n",
            "Requirement already satisfied: psutil>=5.0.0 in /usr/local/lib/python3.7/dist-packages (from wandb) (5.4.8)\n",
            "Requirement already satisfied: docker-pycreds>=0.4.0 in /usr/local/lib/python3.7/dist-packages (from wandb) (0.4.0)\n",
            "Requirement already satisfied: protobuf>=3.12.0 in /usr/local/lib/python3.7/dist-packages (from wandb) (3.17.3)\n",
            "Requirement already satisfied: setproctitle in /usr/local/lib/python3.7/dist-packages (from wandb) (1.2.3)\n",
            "Requirement already satisfied: GitPython>=1.0.0 in /usr/local/lib/python3.7/dist-packages (from wandb) (3.1.27)\n",
            "Requirement already satisfied: promise<3,>=2.0 in /usr/local/lib/python3.7/dist-packages (from wandb) (2.3)\n",
            "Requirement already satisfied: requests<3,>=2.0.0 in /usr/local/lib/python3.7/dist-packages (from wandb) (2.23.0)\n",
            "Requirement already satisfied: pathtools in /usr/local/lib/python3.7/dist-packages (from wandb) (0.1.2)\n",
            "Requirement already satisfied: gitdb<5,>=4.0.1 in /usr/local/lib/python3.7/dist-packages (from GitPython>=1.0.0->wandb) (4.0.9)\n",
            "Requirement already satisfied: typing-extensions>=3.7.4.3 in /usr/local/lib/python3.7/dist-packages (from GitPython>=1.0.0->wandb) (4.2.0)\n",
            "Requirement already satisfied: smmap<6,>=3.0.1 in /usr/local/lib/python3.7/dist-packages (from gitdb<5,>=4.0.1->GitPython>=1.0.0->wandb) (5.0.0)\n",
            "Requirement already satisfied: certifi>=2017.4.17 in /usr/local/lib/python3.7/dist-packages (from requests<3,>=2.0.0->wandb) (2021.10.8)\n",
            "Requirement already satisfied: idna<3,>=2.5 in /usr/local/lib/python3.7/dist-packages (from requests<3,>=2.0.0->wandb) (2.10)\n",
            "Requirement already satisfied: chardet<4,>=3.0.2 in /usr/local/lib/python3.7/dist-packages (from requests<3,>=2.0.0->wandb) (3.0.4)\n",
            "Requirement already satisfied: urllib3!=1.25.0,!=1.25.1,<1.26,>=1.21.1 in /usr/local/lib/python3.7/dist-packages (from requests<3,>=2.0.0->wandb) (1.24.3)\n"
          ]
        }
      ]
    },
    {
      "cell_type": "code",
      "source": [
        "import wandb\n",
        "!wandb login"
      ],
      "metadata": {
        "colab": {
          "base_uri": "https://localhost:8080/"
        },
        "id": "thiYaNrcoM8M",
        "outputId": "8dbce023-3710-4eac-bccb-9ddf5e685b17"
      },
      "execution_count": null,
      "outputs": [
        {
          "output_type": "stream",
          "name": "stdout",
          "text": [
            "\u001b[34m\u001b[1mwandb\u001b[0m: W&B API key is configured. Use \u001b[1m`wandb login --relogin`\u001b[0m to force relogin\n"
          ]
        }
      ]
    },
    {
      "cell_type": "code",
      "source": [
        "import torch\n",
        "from torchvision import transforms, datasets\n",
        "import time\n",
        "import random"
      ],
      "metadata": {
        "id": "lVoCRr_WoQBJ"
      },
      "execution_count": null,
      "outputs": []
    },
    {
      "cell_type": "code",
      "source": [
        "image_transforms = transforms.Compose([transforms.ToTensor()])\n",
        "\n",
        "train_data = datasets.MNIST(\n",
        "    root='./data',\n",
        "    train=True,\n",
        "    download=True,\n",
        "    transform=image_transforms\n",
        ")\n",
        "\n",
        "test_data = datasets.MNIST(\n",
        "    root='./data',\n",
        "    train=False,\n",
        "    download=True,\n",
        "    transform=image_transforms\n",
        ")\n",
        "\n",
        "print(f'train size:{len(train_data)}')\n",
        "print(f'test size:{len(test_data)}')"
      ],
      "metadata": {
        "colab": {
          "base_uri": "https://localhost:8080/"
        },
        "id": "MVEOGM5CoiuF",
        "outputId": "12eb881b-d7ba-4479-f328-755b42562e36"
      },
      "execution_count": null,
      "outputs": [
        {
          "output_type": "stream",
          "name": "stdout",
          "text": [
            "train size:60000\n",
            "test size:10000\n"
          ]
        }
      ]
    },
    {
      "cell_type": "code",
      "source": [
        "config = {\"batch_size\" : 128,\n",
        "          \"lr\" : 0.03,\n",
        "          \"epochs\" : 10}"
      ],
      "metadata": {
        "id": "w5JiSogMOLRe"
      },
      "execution_count": null,
      "outputs": []
    },
    {
      "cell_type": "code",
      "source": [
        "VALIDATION_RATIO = 0.9\n",
        "\n",
        "train_valid_ratio = [int(len(train_data)*VALIDATION_RATIO), len(train_data)-int(len(train_data)*VALIDATION_RATIO)]\n",
        "train_valid_ratio\n",
        "\n",
        "train_data, valid_data = torch.utils.data.random_split(train_data, train_valid_ratio)"
      ],
      "metadata": {
        "id": "p4ifH7VPpXL_"
      },
      "execution_count": null,
      "outputs": []
    },
    {
      "cell_type": "code",
      "source": [
        "BATCH_SIZE = config[\"batch_size\"]\n",
        "\n",
        "train_loader = torch.utils.data.DataLoader(train_data,\n",
        "                                           batch_size=BATCH_SIZE,\n",
        "                                           shuffle=True)\n",
        "\n",
        "test_loader = torch.utils.data.DataLoader(test_data,\n",
        "                                           batch_size=BATCH_SIZE,\n",
        "                                           shuffle=True)\n",
        "\n",
        "valid_loader = torch.utils.data.DataLoader(valid_data,\n",
        "                                           batch_size=BATCH_SIZE,\n",
        "                                           shuffle=True)\n",
        "\n",
        "print('No of batches:')\n",
        "print(f'\\ttraining: {len(train_loader)}')\n",
        "print(f'\\ttest: {len(test_loader)}')\n",
        "print(f'\\tvalid: {len(valid_loader)}')"
      ],
      "metadata": {
        "id": "GaR3QQfbpid0",
        "colab": {
          "base_uri": "https://localhost:8080/"
        },
        "outputId": "8e96c0e4-0333-47a6-c37d-29cd67393d8c"
      },
      "execution_count": null,
      "outputs": [
        {
          "output_type": "stream",
          "name": "stdout",
          "text": [
            "No of batches:\n",
            "\ttraining: 422\n",
            "\ttest: 79\n",
            "\tvalid: 47\n"
          ]
        }
      ]
    },
    {
      "cell_type": "code",
      "source": [
        "import matplotlib.pyplot as plt\n",
        "\n",
        "for i in train_loader:\n",
        "  break\n",
        "  \n",
        "r, c = 5, 40\n",
        "f, axarr = plt.subplots(r, c)\n",
        "plt.rcParams[\"figure.figsize\"] = (20,3)\n",
        "\n",
        "for ii in range(r):\n",
        "  for jj in range(c):\n",
        "    axarr[ii, jj].imshow(i[0][r*ii+jj].numpy().squeeze(), cmap='gray_r')\n",
        "    axarr[ii, jj].axis('off')\n"
      ],
      "metadata": {
        "colab": {
          "base_uri": "https://localhost:8080/",
          "height": 189
        },
        "id": "iBe2O5at-504",
        "outputId": "016f8382-4699-457d-c9ff-d54e2e16252d"
      },
      "execution_count": null,
      "outputs": [
        {
          "output_type": "display_data",
          "data": {
            "text/plain": [
              "<Figure size 1440x216 with 200 Axes>"
            ],
            "image/png": "[encoded data removed]"
          },
          "metadata": {
            "needs_background": "light"
          }
        }
      ]
    },
    {
      "cell_type": "code",
      "source": [
        "import torch.nn as nn\n",
        "import torch.nn.functional as F\n",
        "import torch.optim as optim\n",
        "\n",
        "class MLP(nn.Module):\n",
        "  def __init__(self) -> None:\n",
        "    super().__init__()\n",
        "    self.fc1 = nn.Linear(28*28, 250)\n",
        "    self.fc2 = nn.Linear(250, 100)\n",
        "    self.fc3 = nn.Linear(100, 10)\n",
        "\n",
        "  def forward(self, x):\n",
        "    batch_size = x.shape[0]\n",
        "    x = x.view(batch_size, -1)\n",
        "    x = self.fc1(x)\n",
        "    x = F.relu(x)\n",
        "    x = self.fc2(x)\n",
        "    x = F.relu(x)\n",
        "    x = self.fc3(x)\n",
        "    return x"
      ],
      "metadata": {
        "id": "A2cGh8xUCJLW"
      },
      "execution_count": null,
      "outputs": []
    },
    {
      "cell_type": "code",
      "source": [
        "def get_accuracy(output, label):\n",
        "  pred = output.argmax(1, keepdim=False)\n",
        "  correct = pred.eq(label.view_as(pred)).sum()\n",
        "  acc = correct.float() / label.shape[0]\n",
        "  return acc"
      ],
      "metadata": {
        "id": "8u-PGBvmExCl"
      },
      "execution_count": null,
      "outputs": []
    },
    {
      "cell_type": "code",
      "source": [
        "device = torch.device('cuda' if torch.cuda.is_available() else 'cpu')\n",
        "print(device)"
      ],
      "metadata": {
        "colab": {
          "base_uri": "https://localhost:8080/"
        },
        "id": "x16mS1oRH5dk",
        "outputId": "9e3d2069-3e12-4f35-87e0-c73776cdfcdd"
      },
      "execution_count": null,
      "outputs": [
        {
          "output_type": "stream",
          "name": "stdout",
          "text": [
            "cuda\n"
          ]
        }
      ]
    },
    {
      "cell_type": "code",
      "source": [
        "def train(model, error, optimizer, train_loader):\n",
        "  train_loss = 0\n",
        "  train_acc = 0\n",
        "  model.train()\n",
        "  for batch_idx, (image, label) in enumerate(train_loader):\n",
        "    image = image.to(device)\n",
        "    label = label.to(device)\n",
        "\n",
        "    optimizer.zero_grad()\n",
        "    output = model(image)\n",
        "\n",
        "    loss = error(output, label)\n",
        "    acc = get_accuracy(output, label)\n",
        "\n",
        "    loss.backward()\n",
        "    optimizer.step()\n",
        "\n",
        "    train_loss += loss.item()\n",
        "    train_acc += acc.item()\n",
        "  \n",
        "  train_loss /= len(train_loader)\n",
        "  train_acc /= len(train_loader)\n",
        "\n",
        "  return train_loss, train_acc"
      ],
      "metadata": {
        "id": "W3WklJFvFmZV"
      },
      "execution_count": null,
      "outputs": []
    },
    {
      "cell_type": "code",
      "source": [
        "def validate(model, error, test_loader): \n",
        "  loss_valid = 0\n",
        "  acc_valid = 0       \n",
        "  model.eval()  \n",
        "\n",
        "  for step in range(len(test_loader)):\n",
        "    images , labels = next(iter(test_loader))\n",
        "    \n",
        "    images = images.to(device)\n",
        "    labels = labels.to(device)\n",
        "    \n",
        "    output = model(images)\n",
        "    \n",
        "    loss_valid_step = error(output , labels)\n",
        "    acc_valid_step = get_accuracy(output, labels)\n",
        "  \n",
        "    loss_valid += loss_valid_step.item()\n",
        "    acc_valid += acc_valid_step.item()\n",
        "\n",
        "  loss_valid /= len(test_loader)\n",
        "  acc_valid /= len(test_loader)\n",
        "\n",
        "  return loss_valid, acc_valid"
      ],
      "metadata": {
        "id": "PD3jR8D2J20i"
      },
      "execution_count": null,
      "outputs": []
    },
    {
      "cell_type": "code",
      "source": [
        "wandb.init(name = 'SIMPLE_MLP',\n",
        "           project='MNIST',\n",
        "           config=config,\n",
        "           notes='simply testing the wandb package',\n",
        "           tags=['MNIST', 'MLP', 'Introduction'])\n",
        "\n",
        "error = nn.CrossEntropyLoss()\n",
        "model = MLP().to(device)\n",
        "optimizer = optim.Adam(model.parameters(), lr=config['lr'])\n",
        "\n",
        "wandb.watch(model)\n",
        "\n",
        "EPOCHS = config['epochs']\n",
        "start_time = time.time()\n",
        "\n",
        "for epoch in range(1, EPOCHS+1):\n",
        "  loss_train, acc_train = train(model, error, optimizer, train_loader)\n",
        "  loss_valid, acc_valid = validate(model, error, valid_loader)\n",
        "\n",
        "  print(f'\\tTrain Loss: {loss_train:.3f} | Train Acc: {acc_train*100:.2f}%')\n",
        "  print(f'\\t Val. Loss: {loss_valid:.3f} |  Val. Acc: {acc_valid*100:.2f}%')\n",
        "\n",
        "  wandb.log({\n",
        "        \"Epoch\": epoch,\n",
        "        \"Train Loss\": loss_train,\n",
        "        \"Train Acc\": acc_train,\n",
        "        \"Valid Loss\": loss_valid,\n",
        "        \"Valid Acc\": acc_valid})\n",
        "print(\"Time Elapsed : {:.4f}s\".format(time.time() - start_time))"
      ],
      "metadata": {
        "colab": {
          "base_uri": "https://localhost:8080/",
          "height": 801,
          "referenced_widgets": [
            "9994c5ad17d84db99253c394477149b4",
            "b63daf2d64074cbe9683b2457039f3cf",
            "8a0ef3aa1fd94ad6872313f0bccb49cf",
            "ab8b3599561449619f080779189d741a",
            "dd6084c5de574e7facdc07ec7ea7afb1",
            "239d529ef33f4a8b9cd95c12f7aad9e9",
            "efe76713d43241ccb14bc7e7fd01be25",
            "f74a4b731d6b41e4bdf82b649f953ef4"
          ]
        },
        "id": "Q2OQ6eAqKQKD",
        "outputId": "9f44a3a4-de22-4688-bf84-a23ab5133c69"
      },
      "execution_count": null,
      "outputs": [
        {
          "output_type": "display_data",
          "data": {
            "text/plain": [
              "<IPython.core.display.HTML object>"
            ],
            "text/html": [
              "Finishing last run (ID:2g0tp15j) before initializing another..."
            ]
          },
          "metadata": {}
        },
        {
          "output_type": "display_data",
          "data": {
            "text/plain": [
              "<IPython.core.display.HTML object>"
            ],
            "text/html": [
              "Waiting for W&B process to finish... <strong style=\"color:green\">(success).</strong>"
            ]
          },
          "metadata": {}
        },
        {
          "output_type": "display_data",
          "data": {
            "text/plain": [
              "VBox(children=(Label(value='0.001 MB of 0.001 MB uploaded (0.000 MB deduped)\\r'), FloatProgress(value=1.0, max…"
            ],
            "application/vnd.jupyter.widget-view+json": {
              "version_major": 2,
              "version_minor": 0,
              "model_id": "9994c5ad17d84db99253c394477149b4"
            }
          },
          "metadata": {}
        },
        {
          "output_type": "display_data",
          "data": {
            "text/plain": [
              "<IPython.core.display.HTML object>"
            ],
            "text/html": [
              "<style>\n",
              "    table.wandb td:nth-child(1) { padding: 0 10px; text-align: left ; width: auto;} td:nth-child(2) {text-align: left ; width: 100%}\n",
              "    .wandb-row { display: flex; flex-direction: row; flex-wrap: wrap; justify-content: flex-start; width: 100% }\n",
              "    .wandb-col { display: flex; flex-direction: column; flex-basis: 100%; flex: 1; padding: 10px; }\n",
              "    </style>\n",
              "<div class=\"wandb-row\"><div class=\"wandb-col\"><h3>Run history:</h3><br/><table class=\"wandb\"><tr><td>Epoch</td><td>▁▂▃▃▄▅▆▆▇█</td></tr><tr><td>Train Acc</td><td>▁▅▆▇▇▇▇███</td></tr><tr><td>Train Loss</td><td>█▄▃▃▂▂▂▁▁▁</td></tr><tr><td>Valid Acc</td><td>▁▅▆▇▆▇▇█▆█</td></tr><tr><td>Valid Loss</td><td>▆▁▃▁▃▃▄▃█▄</td></tr></table><br/></div><div class=\"wandb-col\"><h3>Run summary:</h3><br/><table class=\"wandb\"><tr><td>Epoch</td><td>10</td></tr><tr><td>Train Acc</td><td>0.98056</td></tr><tr><td>Train Loss</td><td>0.07774</td></tr><tr><td>Valid Acc</td><td>0.97291</td></tr><tr><td>Valid Loss</td><td>0.16299</td></tr></table><br/></div></div>"
            ]
          },
          "metadata": {}
        },
        {
          "output_type": "display_data",
          "data": {
            "text/plain": [
              "<IPython.core.display.HTML object>"
            ],
            "text/html": [
              "Synced <strong style=\"color:#cdcd00\">SIMPLE_MLP</strong>: <a href=\"https://wandb.ai/unbiasedhuman/MNIST/runs/2g0tp15j\" target=\"_blank\">https://wandb.ai/unbiasedhuman/MNIST/runs/2g0tp15j</a><br/>Synced 5 W&B file(s), 0 media file(s), 0 artifact file(s) and 0 other file(s)"
            ]
          },
          "metadata": {}
        },
        {
          "output_type": "display_data",
          "data": {
            "text/plain": [
              "<IPython.core.display.HTML object>"
            ],
            "text/html": [
              "Find logs at: <code>./wandb/run-20220523_093412-2g0tp15j/logs</code>"
            ]
          },
          "metadata": {}
        },
        {
          "output_type": "display_data",
          "data": {
            "text/plain": [
              "<IPython.core.display.HTML object>"
            ],
            "text/html": [
              "Successfully finished last run (ID:2g0tp15j). Initializing new run:<br/>"
            ]
          },
          "metadata": {}
        },
        {
          "output_type": "display_data",
          "data": {
            "text/plain": [
              "<IPython.core.display.HTML object>"
            ],
            "text/html": [
              "Tracking run with wandb version 0.12.16"
            ]
          },
          "metadata": {}
        },
        {
          "output_type": "display_data",
          "data": {
            "text/plain": [
              "<IPython.core.display.HTML object>"
            ],
            "text/html": [
              "Run data is saved locally in <code>/content/wandb/run-20220523_093622-2tw2wipj</code>"
            ]
          },
          "metadata": {}
        },
        {
          "output_type": "display_data",
          "data": {
            "text/plain": [
              "<IPython.core.display.HTML object>"
            ],
            "text/html": [
              "Syncing run <strong><a href=\"https://wandb.ai/unbiasedhuman/MNIST/runs/2tw2wipj\" target=\"_blank\">SIMPLE_MLP</a></strong> to <a href=\"https://wandb.ai/unbiasedhuman/MNIST\" target=\"_blank\">Weights & Biases</a> (<a href=\"https://wandb.me/run\" target=\"_blank\">docs</a>)<br/>"
            ]
          },
          "metadata": {}
        },
        {
          "output_type": "stream",
          "name": "stdout",
          "text": [
            "\tTrain Loss: 0.377 | Train Acc: 89.15%\n",
            "\t Val. Loss: 0.243 |  Val. Acc: 93.30%\n",
            "\tTrain Loss: 0.238 | Train Acc: 93.62%\n",
            "\t Val. Loss: 0.248 |  Val. Acc: 93.48%\n",
            "\tTrain Loss: 0.213 | Train Acc: 94.40%\n",
            "\t Val. Loss: 0.224 |  Val. Acc: 94.48%\n",
            "\tTrain Loss: 0.201 | Train Acc: 94.88%\n",
            "\t Val. Loss: 0.246 |  Val. Acc: 94.02%\n",
            "\tTrain Loss: 0.193 | Train Acc: 95.13%\n",
            "\t Val. Loss: 0.278 |  Val. Acc: 93.98%\n",
            "\tTrain Loss: 0.180 | Train Acc: 95.51%\n",
            "\t Val. Loss: 0.174 |  Val. Acc: 95.40%\n",
            "\tTrain Loss: 0.183 | Train Acc: 95.39%\n",
            "\t Val. Loss: 0.283 |  Val. Acc: 94.13%\n",
            "\tTrain Loss: 0.177 | Train Acc: 95.56%\n",
            "\t Val. Loss: 0.229 |  Val. Acc: 94.83%\n",
            "\tTrain Loss: 0.166 | Train Acc: 95.74%\n",
            "\t Val. Loss: 0.223 |  Val. Acc: 95.79%\n",
            "\tTrain Loss: 0.157 | Train Acc: 96.08%\n",
            "\t Val. Loss: 0.273 |  Val. Acc: 95.00%\n",
            "Time Elapsed : 54.2222s\n"
          ]
        }
      ]
    },
    {
      "cell_type": "code",
      "source": [
        "test_loss, test_acc = validate(model, error, test_loader)\n",
        "print(f'test_loss:{test_loss}\\ntest_acc:{test_acc}')"
      ],
      "metadata": {
        "colab": {
          "base_uri": "https://localhost:8080/"
        },
        "id": "J8M3xoOXL0rA",
        "outputId": "b7eefaec-30fa-43f8-eef4-dad3976804fd"
      },
      "execution_count": null,
      "outputs": [
        {
          "output_type": "stream",
          "name": "stdout",
          "text": [
            "test_loss:0.281990845840943\n",
            "test_acc:0.9501582278481012\n"
          ]
        }
      ]
    },
    {
      "cell_type": "code",
      "source": [
        ""
      ],
      "metadata": {
        "id": "rPqjNZ1kM9BJ"
      },
      "execution_count": null,
      "outputs": []
    }
  ]
}