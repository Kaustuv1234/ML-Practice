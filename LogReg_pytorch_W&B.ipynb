{
  "nbformat": 4,
  "nbformat_minor": 0,
  "metadata": {
    "colab": {
      "name": "LogReg_pytorch_W&B.ipynb",
      "provenance": [],
      "authorship_tag": "ABX9TyPOuqsZyyI/J0DdnixOGsV8",
      "include_colab_link": true
    },
    "kernelspec": {
      "name": "python3",
      "display_name": "Python 3"
    },
    "language_info": {
      "name": "python"
    },
    "accelerator": "GPU",
    "widgets": {
      "application/vnd.jupyter.widget-state+json": {
        "f1c417d5c910423683491ae3919a6045": {
          "model_module": "@jupyter-widgets/controls",
          "model_name": "VBoxModel",
          "model_module_version": "1.5.0",
          "state": {
            "_dom_classes": [],
            "_model_module": "@jupyter-widgets/controls",
            "_model_module_version": "1.5.0",
            "_model_name": "VBoxModel",
            "_view_count": null,
            "_view_module": "@jupyter-widgets/controls",
            "_view_module_version": "1.5.0",
            "_view_name": "VBoxView",
            "box_style": "",
            "children": [
              "IPY_MODEL_43601f90c79646ff9fc0b31e4d87e7f5",
              "IPY_MODEL_314cde620266416dbfb6a2a16d2295ec"
            ],
            "layout": "IPY_MODEL_71c56cfdefec4a5aa3c5f7ea987987f7"
          }
        },
        "43601f90c79646ff9fc0b31e4d87e7f5": {
          "model_module": "@jupyter-widgets/controls",
          "model_name": "LabelModel",
          "model_module_version": "1.5.0",
          "state": {
            "_dom_classes": [],
            "_model_module": "@jupyter-widgets/controls",
            "_model_module_version": "1.5.0",
            "_model_name": "LabelModel",
            "_view_count": null,
            "_view_module": "@jupyter-widgets/controls",
            "_view_module_version": "1.5.0",
            "_view_name": "LabelView",
            "description": "",
            "description_tooltip": null,
            "layout": "IPY_MODEL_f521c7c43bae4274a3fd603773dea985",
            "placeholder": "​",
            "style": "IPY_MODEL_8680292757da4280a064f3006c7a4a0d",
            "value": "0.011 MB of 0.011 MB uploaded (0.000 MB deduped)\r"
          }
        },
        "314cde620266416dbfb6a2a16d2295ec": {
          "model_module": "@jupyter-widgets/controls",
          "model_name": "FloatProgressModel",
          "model_module_version": "1.5.0",
          "state": {
            "_dom_classes": [],
            "_model_module": "@jupyter-widgets/controls",
            "_model_module_version": "1.5.0",
            "_model_name": "FloatProgressModel",
            "_view_count": null,
            "_view_module": "@jupyter-widgets/controls",
            "_view_module_version": "1.5.0",
            "_view_name": "ProgressView",
            "bar_style": "",
            "description": "",
            "description_tooltip": null,
            "layout": "IPY_MODEL_9048c63dd5624ecb8725c4e90e7e23c0",
            "max": 1,
            "min": 0,
            "orientation": "horizontal",
            "style": "IPY_MODEL_4c33713b16c743359fb097a97999a2b9",
            "value": 1
          }
        },
        "71c56cfdefec4a5aa3c5f7ea987987f7": {
          "model_module": "@jupyter-widgets/base",
          "model_name": "LayoutModel",
          "model_module_version": "1.2.0",
          "state": {
            "_model_module": "@jupyter-widgets/base",
            "_model_module_version": "1.2.0",
            "_model_name": "LayoutModel",
            "_view_count": null,
            "_view_module": "@jupyter-widgets/base",
            "_view_module_version": "1.2.0",
            "_view_name": "LayoutView",
            "align_content": null,
            "align_items": null,
            "align_self": null,
            "border": null,
            "bottom": null,
            "display": null,
            "flex": null,
            "flex_flow": null,
            "grid_area": null,
            "grid_auto_columns": null,
            "grid_auto_flow": null,
            "grid_auto_rows": null,
            "grid_column": null,
            "grid_gap": null,
            "grid_row": null,
            "grid_template_areas": null,
            "grid_template_columns": null,
            "grid_template_rows": null,
            "height": null,
            "justify_content": null,
            "justify_items": null,
            "left": null,
            "margin": null,
            "max_height": null,
            "max_width": null,
            "min_height": null,
            "min_width": null,
            "object_fit": null,
            "object_position": null,
            "order": null,
            "overflow": null,
            "overflow_x": null,
            "overflow_y": null,
            "padding": null,
            "right": null,
            "top": null,
            "visibility": null,
            "width": null
          }
        },
        "f521c7c43bae4274a3fd603773dea985": {
          "model_module": "@jupyter-widgets/base",
          "model_name": "LayoutModel",
          "model_module_version": "1.2.0",
          "state": {
            "_model_module": "@jupyter-widgets/base",
            "_model_module_version": "1.2.0",
            "_model_name": "LayoutModel",
            "_view_count": null,
            "_view_module": "@jupyter-widgets/base",
            "_view_module_version": "1.2.0",
            "_view_name": "LayoutView",
            "align_content": null,
            "align_items": null,
            "align_self": null,
            "border": null,
            "bottom": null,
            "display": null,
            "flex": null,
            "flex_flow": null,
            "grid_area": null,
            "grid_auto_columns": null,
            "grid_auto_flow": null,
            "grid_auto_rows": null,
            "grid_column": null,
            "grid_gap": null,
            "grid_row": null,
            "grid_template_areas": null,
            "grid_template_columns": null,
            "grid_template_rows": null,
            "height": null,
            "justify_content": null,
            "justify_items": null,
            "left": null,
            "margin": null,
            "max_height": null,
            "max_width": null,
            "min_height": null,
            "min_width": null,
            "object_fit": null,
            "object_position": null,
            "order": null,
            "overflow": null,
            "overflow_x": null,
            "overflow_y": null,
            "padding": null,
            "right": null,
            "top": null,
            "visibility": null,
            "width": null
          }
        },
        "8680292757da4280a064f3006c7a4a0d": {
          "model_module": "@jupyter-widgets/controls",
          "model_name": "DescriptionStyleModel",
          "model_module_version": "1.5.0",
          "state": {
            "_model_module": "@jupyter-widgets/controls",
            "_model_module_version": "1.5.0",
            "_model_name": "DescriptionStyleModel",
            "_view_count": null,
            "_view_module": "@jupyter-widgets/base",
            "_view_module_version": "1.2.0",
            "_view_name": "StyleView",
            "description_width": ""
          }
        },
        "9048c63dd5624ecb8725c4e90e7e23c0": {
          "model_module": "@jupyter-widgets/base",
          "model_name": "LayoutModel",
          "model_module_version": "1.2.0",
          "state": {
            "_model_module": "@jupyter-widgets/base",
            "_model_module_version": "1.2.0",
            "_model_name": "LayoutModel",
            "_view_count": null,
            "_view_module": "@jupyter-widgets/base",
            "_view_module_version": "1.2.0",
            "_view_name": "LayoutView",
            "align_content": null,
            "align_items": null,
            "align_self": null,
            "border": null,
            "bottom": null,
            "display": null,
            "flex": null,
            "flex_flow": null,
            "grid_area": null,
            "grid_auto_columns": null,
            "grid_auto_flow": null,
            "grid_auto_rows": null,
            "grid_column": null,
            "grid_gap": null,
            "grid_row": null,
            "grid_template_areas": null,
            "grid_template_columns": null,
            "grid_template_rows": null,
            "height": null,
            "justify_content": null,
            "justify_items": null,
            "left": null,
            "margin": null,
            "max_height": null,
            "max_width": null,
            "min_height": null,
            "min_width": null,
            "object_fit": null,
            "object_position": null,
            "order": null,
            "overflow": null,
            "overflow_x": null,
            "overflow_y": null,
            "padding": null,
            "right": null,
            "top": null,
            "visibility": null,
            "width": null
          }
        },
        "4c33713b16c743359fb097a97999a2b9": {
          "model_module": "@jupyter-widgets/controls",
          "model_name": "ProgressStyleModel",
          "model_module_version": "1.5.0",
          "state": {
            "_model_module": "@jupyter-widgets/controls",
            "_model_module_version": "1.5.0",
            "_model_name": "ProgressStyleModel",
            "_view_count": null,
            "_view_module": "@jupyter-widgets/base",
            "_view_module_version": "1.2.0",
            "_view_name": "StyleView",
            "bar_color": null,
            "description_width": ""
          }
        }
      }
    }
  },
  "cells": [
    {
      "cell_type": "markdown",
      "metadata": {
        "id": "view-in-github",
        "colab_type": "text"
      },
      "source": [
        "<a href=\"https://colab.research.google.com/github/Kaustuv1234/ML-Practice/blob/main/LogReg_pytorch_W%26B.ipynb\" target=\"_parent\"><img src=\"https://colab.research.google.com/assets/colab-badge.svg\" alt=\"Open In Colab\"/></a>"
      ]
    },
    {
      "cell_type": "code",
      "source": [
        "!pip install wandb"
      ],
      "metadata": {
        "colab": {
          "base_uri": "https://localhost:8080/"
        },
        "id": "ObUmeQlnlqGu",
        "outputId": "e968193b-6fce-4fe7-ed8c-6c7db9f2ba70"
      },
      "execution_count": 28,
      "outputs": [
        {
          "output_type": "stream",
          "name": "stdout",
          "text": [
            "Requirement already satisfied: wandb in /usr/local/lib/python3.7/dist-packages (0.12.16)\n",
            "Requirement already satisfied: docker-pycreds>=0.4.0 in /usr/local/lib/python3.7/dist-packages (from wandb) (0.4.0)\n",
            "Requirement already satisfied: pathtools in /usr/local/lib/python3.7/dist-packages (from wandb) (0.1.2)\n",
            "Requirement already satisfied: sentry-sdk>=1.0.0 in /usr/local/lib/python3.7/dist-packages (from wandb) (1.5.12)\n",
            "Requirement already satisfied: setuptools in /usr/local/lib/python3.7/dist-packages (from wandb) (57.4.0)\n",
            "Requirement already satisfied: Click!=8.0.0,>=7.0 in /usr/local/lib/python3.7/dist-packages (from wandb) (7.1.2)\n",
            "Requirement already satisfied: shortuuid>=0.5.0 in /usr/local/lib/python3.7/dist-packages (from wandb) (1.0.9)\n",
            "Requirement already satisfied: python-dateutil>=2.6.1 in /usr/local/lib/python3.7/dist-packages (from wandb) (2.8.2)\n",
            "Requirement already satisfied: promise<3,>=2.0 in /usr/local/lib/python3.7/dist-packages (from wandb) (2.3)\n",
            "Requirement already satisfied: PyYAML in /usr/local/lib/python3.7/dist-packages (from wandb) (3.13)\n",
            "Requirement already satisfied: requests<3,>=2.0.0 in /usr/local/lib/python3.7/dist-packages (from wandb) (2.23.0)\n",
            "Requirement already satisfied: setproctitle in /usr/local/lib/python3.7/dist-packages (from wandb) (1.2.3)\n",
            "Requirement already satisfied: protobuf>=3.12.0 in /usr/local/lib/python3.7/dist-packages (from wandb) (3.17.3)\n",
            "Requirement already satisfied: GitPython>=1.0.0 in /usr/local/lib/python3.7/dist-packages (from wandb) (3.1.27)\n",
            "Requirement already satisfied: six>=1.13.0 in /usr/local/lib/python3.7/dist-packages (from wandb) (1.15.0)\n",
            "Requirement already satisfied: psutil>=5.0.0 in /usr/local/lib/python3.7/dist-packages (from wandb) (5.4.8)\n",
            "Requirement already satisfied: typing-extensions>=3.7.4.3 in /usr/local/lib/python3.7/dist-packages (from GitPython>=1.0.0->wandb) (4.2.0)\n",
            "Requirement already satisfied: gitdb<5,>=4.0.1 in /usr/local/lib/python3.7/dist-packages (from GitPython>=1.0.0->wandb) (4.0.9)\n",
            "Requirement already satisfied: smmap<6,>=3.0.1 in /usr/local/lib/python3.7/dist-packages (from gitdb<5,>=4.0.1->GitPython>=1.0.0->wandb) (5.0.0)\n",
            "Requirement already satisfied: chardet<4,>=3.0.2 in /usr/local/lib/python3.7/dist-packages (from requests<3,>=2.0.0->wandb) (3.0.4)\n",
            "Requirement already satisfied: urllib3!=1.25.0,!=1.25.1,<1.26,>=1.21.1 in /usr/local/lib/python3.7/dist-packages (from requests<3,>=2.0.0->wandb) (1.24.3)\n",
            "Requirement already satisfied: idna<3,>=2.5 in /usr/local/lib/python3.7/dist-packages (from requests<3,>=2.0.0->wandb) (2.10)\n",
            "Requirement already satisfied: certifi>=2017.4.17 in /usr/local/lib/python3.7/dist-packages (from requests<3,>=2.0.0->wandb) (2021.10.8)\n"
          ]
        }
      ]
    },
    {
      "cell_type": "code",
      "source": [
        "import wandb\n",
        "!wandb login"
      ],
      "metadata": {
        "colab": {
          "base_uri": "https://localhost:8080/"
        },
        "id": "thiYaNrcoM8M",
        "outputId": "582e8343-40e7-42ea-b19d-a9bd20442786"
      },
      "execution_count": 29,
      "outputs": [
        {
          "output_type": "stream",
          "name": "stdout",
          "text": [
            "\u001b[34m\u001b[1mwandb\u001b[0m: Currently logged in as: \u001b[33munbiasedhuman\u001b[0m. Use \u001b[1m`wandb login --relogin`\u001b[0m to force relogin\n"
          ]
        }
      ]
    },
    {
      "cell_type": "code",
      "source": [
        "import torch\n",
        "from torchvision import transforms, datasets\n",
        "import time\n",
        "import random"
      ],
      "metadata": {
        "id": "lVoCRr_WoQBJ"
      },
      "execution_count": 30,
      "outputs": []
    },
    {
      "cell_type": "code",
      "source": [
        "image_transforms = transforms.Compose([transforms.ToTensor()])\n",
        "\n",
        "train_data = datasets.MNIST(\n",
        "    root='./data',\n",
        "    train=True,\n",
        "    download=True,\n",
        "    transform=image_transforms\n",
        ")\n",
        "\n",
        "test_data = datasets.MNIST(\n",
        "    root='./data',\n",
        "    train=False,\n",
        "    download=True,\n",
        "    transform=image_transforms\n",
        ")\n",
        "\n",
        "print(f'train size:{len(train_data)}')\n",
        "print(f'test size:{len(test_data)}')"
      ],
      "metadata": {
        "colab": {
          "base_uri": "https://localhost:8080/"
        },
        "id": "MVEOGM5CoiuF",
        "outputId": "ed5b9edd-14a5-47b9-a7af-bd6e90ce4ebc"
      },
      "execution_count": 31,
      "outputs": [
        {
          "output_type": "stream",
          "name": "stdout",
          "text": [
            "train size:60000\n",
            "test size:10000\n"
          ]
        }
      ]
    },
    {
      "cell_type": "code",
      "source": [
        "config = {\"batch_size\" : 128,\n",
        "          \"lr\" : 0.03,\n",
        "          \"epochs\" : 10}"
      ],
      "metadata": {
        "id": "w5JiSogMOLRe"
      },
      "execution_count": 32,
      "outputs": []
    },
    {
      "cell_type": "code",
      "source": [
        "VALIDATION_RATIO = 0.9\n",
        "\n",
        "train_valid_ratio = [int(len(train_data)*VALIDATION_RATIO), len(train_data)-int(len(train_data)*VALIDATION_RATIO)]\n",
        "train_valid_ratio\n",
        "\n",
        "train_data, valid_data = torch.utils.data.random_split(train_data, train_valid_ratio)"
      ],
      "metadata": {
        "id": "p4ifH7VPpXL_"
      },
      "execution_count": 33,
      "outputs": []
    },
    {
      "cell_type": "code",
      "source": [
        "BATCH_SIZE = config[\"batch_size\"]\n",
        "\n",
        "train_loader = torch.utils.data.DataLoader(train_data,\n",
        "                                           batch_size=BATCH_SIZE,\n",
        "                                           shuffle=True)\n",
        "\n",
        "test_loader = torch.utils.data.DataLoader(test_data,\n",
        "                                           batch_size=BATCH_SIZE,\n",
        "                                           shuffle=True)\n",
        "\n",
        "valid_loader = torch.utils.data.DataLoader(valid_data,\n",
        "                                           batch_size=BATCH_SIZE,\n",
        "                                           shuffle=True)\n",
        "\n",
        "print('No of batches:')\n",
        "print(f'\\ttraining: {len(train_loader)}')\n",
        "print(f'\\ttest: {len(test_loader)}')\n",
        "print(f'\\tvalid: {len(valid_loader)}')"
      ],
      "metadata": {
        "id": "GaR3QQfbpid0",
        "colab": {
          "base_uri": "https://localhost:8080/"
        },
        "outputId": "d119f2e0-a4b1-470a-b182-6c26068b1d6e"
      },
      "execution_count": 34,
      "outputs": [
        {
          "output_type": "stream",
          "name": "stdout",
          "text": [
            "No of batches:\n",
            "\ttraining: 422\n",
            "\ttest: 79\n",
            "\tvalid: 47\n"
          ]
        }
      ]
    },
    {
      "cell_type": "code",
      "source": [
        "import matplotlib.pyplot as plt\n",
        "\n",
        "for i in train_loader:\n",
        "  break\n",
        "  \n",
        "r, c = 5, 40\n",
        "f, axarr = plt.subplots(r, c)\n",
        "plt.rcParams[\"figure.figsize\"] = (20,3)\n",
        "\n",
        "for ii in range(r):\n",
        "  for jj in range(c):\n",
        "    axarr[ii, jj].imshow(i[0][r*ii+jj].numpy().squeeze(), cmap='gray_r')\n",
        "    axarr[ii, jj].axis('off')\n"
      ],
      "metadata": {
        "colab": {
          "base_uri": "https://localhost:8080/",
          "height": 189
        },
        "id": "iBe2O5at-504",
        "outputId": "aa8807c3-1ec4-4d0b-e237-de62ca49cca5"
      },
      "execution_count": 35,
      "outputs": [
        {
          "output_type": "display_data",
          "data": {
            "text/plain": [
              "<Figure size 1440x216 with 200 Axes>"
            ],
            "image/png": "[encoded data removed]"
          },
          "metadata": {
            "needs_background": "light"
          }
        }
      ]
    },
    {
      "cell_type": "code",
      "source": [
        "import torch.nn as nn\n",
        "import torch.nn.functional as F\n",
        "import torch.optim as optim\n",
        "\n",
        "class LogReg(nn.Module):\n",
        "  def __init__(self, input_dim=28*28, output_dim=10):\n",
        "    super(LogReg, self).__init__()\n",
        "    self.lin = nn.Linear(input_dim, output_dim)\n",
        "\n",
        "  def forward(self, x):\n",
        "    x = x.view(-1, 784)\n",
        "    output = self.lin(x)\n",
        "    return output"
      ],
      "metadata": {
        "id": "A2cGh8xUCJLW"
      },
      "execution_count": 36,
      "outputs": []
    },
    {
      "cell_type": "code",
      "source": [
        "def get_accuracy(output, label):\n",
        "  pred = output.argmax(1, keepdim=False)\n",
        "  correct = pred.eq(label.view_as(pred)).sum()\n",
        "  acc = correct.float() / label.shape[0]\n",
        "  return acc"
      ],
      "metadata": {
        "id": "8u-PGBvmExCl"
      },
      "execution_count": 37,
      "outputs": []
    },
    {
      "cell_type": "code",
      "source": [
        "device = torch.device('cuda' if torch.cuda.is_available() else 'cpu')\n",
        "print(device)"
      ],
      "metadata": {
        "colab": {
          "base_uri": "https://localhost:8080/"
        },
        "id": "x16mS1oRH5dk",
        "outputId": "6792575e-878d-4a26-a54a-0d576010e3ac"
      },
      "execution_count": 38,
      "outputs": [
        {
          "output_type": "stream",
          "name": "stdout",
          "text": [
            "cuda\n"
          ]
        }
      ]
    },
    {
      "cell_type": "code",
      "source": [
        "def train(model, error, optimizer, train_loader):\n",
        "  train_loss = 0\n",
        "  train_acc = 0\n",
        "  model.train()\n",
        "  for batch_idx, (image, label) in enumerate(train_loader):\n",
        "    image = image.to(device)\n",
        "    label = label.to(device)\n",
        "\n",
        "    optimizer.zero_grad()\n",
        "    output = model(image)\n",
        "\n",
        "    loss = error(output, label)\n",
        "    acc = get_accuracy(output, label)\n",
        "\n",
        "    loss.backward()\n",
        "    optimizer.step()\n",
        "\n",
        "    train_loss += loss.item()\n",
        "    train_acc += acc.item()\n",
        "  \n",
        "  train_loss /= len(train_loader)\n",
        "  train_acc /= len(train_loader)\n",
        "\n",
        "  return train_loss, train_acc"
      ],
      "metadata": {
        "id": "W3WklJFvFmZV"
      },
      "execution_count": 39,
      "outputs": []
    },
    {
      "cell_type": "code",
      "source": [
        "def validate(model, error, test_loader): \n",
        "  loss_valid = 0\n",
        "  acc_valid = 0       \n",
        "  model.eval()  \n",
        "\n",
        "  for step in range(len(test_loader)):\n",
        "    images , labels = next(iter(test_loader))\n",
        "    \n",
        "    images = images.to(device)\n",
        "    labels = labels.to(device)\n",
        "    \n",
        "    output = model(images)\n",
        "    \n",
        "    loss_valid_step = error(output , labels)\n",
        "    acc_valid_step = get_accuracy(output, labels)\n",
        "  \n",
        "    loss_valid += loss_valid_step.item()\n",
        "    acc_valid += acc_valid_step.item()\n",
        "\n",
        "  loss_valid /= len(test_loader)\n",
        "  acc_valid /= len(test_loader)\n",
        "\n",
        "  return loss_valid, acc_valid"
      ],
      "metadata": {
        "id": "PD3jR8D2J20i"
      },
      "execution_count": 40,
      "outputs": []
    },
    {
      "cell_type": "code",
      "source": [
        "wandb.init(name = 'LOG_REG',\n",
        "           project='MNIST',\n",
        "           config=config,\n",
        "           notes=f'simply testing the wandb package (device:{device})',\n",
        "           tags=['MNIST', 'LOG_REG', 'Introduction'])\n",
        "\n",
        "error = nn.CrossEntropyLoss()\n",
        "model = LogReg().to(device)\n",
        "optimizer = optim.Adam(model.parameters(), lr=config['lr'])\n",
        "\n",
        "wandb.watch(model)\n",
        "\n",
        "EPOCHS = config['epochs']\n",
        "start_time = time.time()\n",
        "\n",
        "for epoch in range(1, EPOCHS+1):\n",
        "  loss_train, acc_train = train(model, error, optimizer, train_loader)\n",
        "  loss_valid, acc_valid = validate(model, error, valid_loader)\n",
        "\n",
        "  print(f'\\tTrain Loss: {loss_train:.3f} | Train Acc: {acc_train*100:.2f}%')\n",
        "  print(f'\\t Val. Loss: {loss_valid:.3f} |  Val. Acc: {acc_valid*100:.2f}%')\n",
        "\n",
        "  wandb.log({\n",
        "        \"Epoch\": epoch,\n",
        "        \"Train Loss\": loss_train,\n",
        "        \"Train Acc\": acc_train,\n",
        "        \"Valid Loss\": loss_valid,\n",
        "        \"Valid Acc\": acc_valid})\n",
        "print(\"Time Elapsed : {:.4f}s\".format(time.time() - start_time))"
      ],
      "metadata": {
        "colab": {
          "base_uri": "https://localhost:8080/",
          "height": 538,
          "referenced_widgets": [
            "f1c417d5c910423683491ae3919a6045",
            "43601f90c79646ff9fc0b31e4d87e7f5",
            "314cde620266416dbfb6a2a16d2295ec",
            "71c56cfdefec4a5aa3c5f7ea987987f7",
            "f521c7c43bae4274a3fd603773dea985",
            "8680292757da4280a064f3006c7a4a0d",
            "9048c63dd5624ecb8725c4e90e7e23c0",
            "4c33713b16c743359fb097a97999a2b9"
          ]
        },
        "id": "Q2OQ6eAqKQKD",
        "outputId": "3f1f81f1-c2a7-4461-f61e-e558fe4ad782"
      },
      "execution_count": 41,
      "outputs": [
        {
          "output_type": "display_data",
          "data": {
            "text/plain": [
              "<IPython.core.display.HTML object>"
            ],
            "text/html": [
              "Finishing last run (ID:t0j8g0cr) before initializing another..."
            ]
          },
          "metadata": {}
        },
        {
          "output_type": "display_data",
          "data": {
            "text/plain": [
              "<IPython.core.display.HTML object>"
            ],
            "text/html": [
              "Waiting for W&B process to finish... <strong style=\"color:green\">(success).</strong>"
            ]
          },
          "metadata": {}
        },
        {
          "output_type": "display_data",
          "data": {
            "text/plain": [
              "VBox(children=(Label(value='0.001 MB of 0.001 MB uploaded (0.000 MB deduped)\\r'), FloatProgress(value=1.0, max…"
            ],
            "application/vnd.jupyter.widget-view+json": {
              "version_major": 2,
              "version_minor": 0,
              "model_id": "f1c417d5c910423683491ae3919a6045"
            }
          },
          "metadata": {}
        },
        {
          "output_type": "display_data",
          "data": {
            "text/plain": [
              "<IPython.core.display.HTML object>"
            ],
            "text/html": [
              "Synced <strong style=\"color:#cdcd00\">SIMPLE_MLP</strong>: <a href=\"https://wandb.ai/unbiasedhuman/MNIST/runs/t0j8g0cr\" target=\"_blank\">https://wandb.ai/unbiasedhuman/MNIST/runs/t0j8g0cr</a><br/>Synced 5 W&B file(s), 0 media file(s), 0 artifact file(s) and 0 other file(s)"
            ]
          },
          "metadata": {}
        },
        {
          "output_type": "display_data",
          "data": {
            "text/plain": [
              "<IPython.core.display.HTML object>"
            ],
            "text/html": [
              "Find logs at: <code>./wandb/run-20220523_100511-t0j8g0cr/logs</code>"
            ]
          },
          "metadata": {}
        },
        {
          "output_type": "display_data",
          "data": {
            "text/plain": [
              "<IPython.core.display.HTML object>"
            ],
            "text/html": [
              "Successfully finished last run (ID:t0j8g0cr). Initializing new run:<br/>"
            ]
          },
          "metadata": {}
        },
        {
          "output_type": "display_data",
          "data": {
            "text/plain": [
              "<IPython.core.display.HTML object>"
            ],
            "text/html": [
              "Tracking run with wandb version 0.12.16"
            ]
          },
          "metadata": {}
        },
        {
          "output_type": "display_data",
          "data": {
            "text/plain": [
              "<IPython.core.display.HTML object>"
            ],
            "text/html": [
              "Run data is saved locally in <code>/content/wandb/run-20220523_100843-1xohla04</code>"
            ]
          },
          "metadata": {}
        },
        {
          "output_type": "display_data",
          "data": {
            "text/plain": [
              "<IPython.core.display.HTML object>"
            ],
            "text/html": [
              "Syncing run <strong><a href=\"https://wandb.ai/unbiasedhuman/MNIST/runs/1xohla04\" target=\"_blank\">LOG_REG</a></strong> to <a href=\"https://wandb.ai/unbiasedhuman/MNIST\" target=\"_blank\">Weights & Biases</a> (<a href=\"https://wandb.me/run\" target=\"_blank\">docs</a>)<br/>"
            ]
          },
          "metadata": {}
        },
        {
          "output_type": "stream",
          "name": "stdout",
          "text": [
            "\tTrain Loss: 0.401 | Train Acc: 88.96%\n",
            "\t Val. Loss: 0.384 |  Val. Acc: 90.31%\n",
            "\tTrain Loss: 0.364 | Train Acc: 90.77%\n",
            "\t Val. Loss: 0.426 |  Val. Acc: 89.66%\n",
            "\tTrain Loss: 0.364 | Train Acc: 90.72%\n",
            "\t Val. Loss: 0.459 |  Val. Acc: 89.44%\n",
            "\tTrain Loss: 0.362 | Train Acc: 90.94%\n",
            "\t Val. Loss: 0.433 |  Val. Acc: 90.44%\n",
            "\tTrain Loss: 0.357 | Train Acc: 91.12%\n",
            "\t Val. Loss: 0.438 |  Val. Acc: 90.21%\n",
            "\tTrain Loss: 0.360 | Train Acc: 91.07%\n",
            "\t Val. Loss: 0.412 |  Val. Acc: 90.89%\n",
            "\tTrain Loss: 0.357 | Train Acc: 91.16%\n",
            "\t Val. Loss: 0.474 |  Val. Acc: 89.36%\n",
            "\tTrain Loss: 0.346 | Train Acc: 91.40%\n",
            "\t Val. Loss: 0.484 |  Val. Acc: 89.58%\n",
            "\tTrain Loss: 0.352 | Train Acc: 91.23%\n",
            "\t Val. Loss: 0.472 |  Val. Acc: 90.21%\n",
            "\tTrain Loss: 0.347 | Train Acc: 91.44%\n",
            "\t Val. Loss: 0.496 |  Val. Acc: 89.23%\n",
            "Time Elapsed : 49.7013s\n"
          ]
        }
      ]
    },
    {
      "cell_type": "code",
      "source": [
        "test_loss, test_acc = validate(model, error, test_loader)\n",
        "print(f'test_loss:{test_loss}\\ntest_acc:{test_acc}')"
      ],
      "metadata": {
        "colab": {
          "base_uri": "https://localhost:8080/"
        },
        "id": "J8M3xoOXL0rA",
        "outputId": "c23e98e0-0f02-4602-861d-f6bcac573fdf"
      },
      "execution_count": 42,
      "outputs": [
        {
          "output_type": "stream",
          "name": "stdout",
          "text": [
            "test_loss:0.43226191278877135\n",
            "test_acc:0.9128757911392406\n"
          ]
        }
      ]
    }
  ]
}